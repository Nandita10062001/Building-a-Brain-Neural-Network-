{
  "nbformat": 4,
  "nbformat_minor": 0,
  "metadata": {
    "colab": {
      "provenance": []
    },
    "kernelspec": {
      "name": "python3",
      "display_name": "Python 3"
    },
    "language_info": {
      "name": "python"
    }
  },
  "cells": [
    {
      "cell_type": "code",
      "execution_count": null,
      "metadata": {
        "id": "E8egMC94CVy5"
      },
      "outputs": [],
      "source": [
        "import tensorflow as tf"
      ]
    },
    {
      "cell_type": "code",
      "source": [
        "tf.config.list_physical_devices('GPU')"
      ],
      "metadata": {
        "colab": {
          "base_uri": "https://localhost:8080/"
        },
        "id": "dIm5wudSJBBh",
        "outputId": "09461786-0964-4b14-8d41-1f0ffc0f6e86"
      },
      "execution_count": null,
      "outputs": [
        {
          "output_type": "execute_result",
          "data": {
            "text/plain": [
              "[]"
            ]
          },
          "metadata": {},
          "execution_count": 3
        }
      ]
    },
    {
      "cell_type": "code",
      "source": [
        "fashion_mnist = tf.keras.datasets.fashion_mnist\n",
        "(train_images, train_labels), (valid_images, valid_labels) = fashion_mnist.load_data()"
      ],
      "metadata": {
        "id": "9wGSw_hqJKMx"
      },
      "execution_count": null,
      "outputs": []
    },
    {
      "cell_type": "code",
      "source": [
        "import matplotlib.pyplot as plt\n",
        "data_idx = 340\n",
        "plt.figure()\n",
        "plt.imshow(train_images[data_idx],cmap = 'viridis')\n",
        "plt.colorbar()\n",
        "plt.grid(False)\n",
        "plt.show()"
      ],
      "metadata": {
        "colab": {
          "base_uri": "https://localhost:8080/",
          "height": 430
        },
        "id": "xTbBGvLlKBAW",
        "outputId": "cd9e0202-4e73-4af3-8aee-ac2c88d1680e"
      },
      "execution_count": null,
      "outputs": [
        {
          "output_type": "display_data",
          "data": {
            "text/plain": [
              "<Figure size 640x480 with 2 Axes>"
            ],
            "image/png": "[encoded data removed]"
          },
          "metadata": {}
        }
      ]
    },
    {
      "cell_type": "code",
      "source": [
        "train_labels[data_idx]"
      ],
      "metadata": {
        "colab": {
          "base_uri": "https://localhost:8080/"
        },
        "id": "WwofZCOSLxS8",
        "outputId": "87ac2aa4-6dc7-43c2-c77f-8372c5749b64"
      },
      "execution_count": null,
      "outputs": [
        {
          "output_type": "execute_result",
          "data": {
            "text/plain": [
              "7"
            ]
          },
          "metadata": {},
          "execution_count": 13
        }
      ]
    },
    {
      "cell_type": "code",
      "source": [
        "data_idx = 1118\n",
        "plt.figure()\n",
        "plt.imshow(valid_images[data_idx],cmap = 'viridis')\n",
        "plt.colorbar()\n",
        "plt.grid(False)\n",
        "plt.show()"
      ],
      "metadata": {
        "colab": {
          "base_uri": "https://localhost:8080/",
          "height": 430
        },
        "id": "iE5qvS7HMODv",
        "outputId": "9e6e0c1a-ed86-4b51-833d-21b37d6c5250"
      },
      "execution_count": null,
      "outputs": [
        {
          "output_type": "display_data",
          "data": {
            "text/plain": [
              "<Figure size 640x480 with 2 Axes>"
            ],
            "image/png": "[encoded data removed]"
          },
          "metadata": {}
        }
      ]
    },
    {
      "cell_type": "code",
      "source": [
        "valid_labels[data_idx]"
      ],
      "metadata": {
        "colab": {
          "base_uri": "https://localhost:8080/"
        },
        "id": "beg8ikIMMoJr",
        "outputId": "c9c0c2b8-8826-42cd-8eb3-837248feb3ed"
      },
      "execution_count": null,
      "outputs": [
        {
          "output_type": "execute_result",
          "data": {
            "text/plain": [
              "1"
            ]
          },
          "metadata": {},
          "execution_count": 24
        }
      ]
    },
    {
      "cell_type": "code",
      "source": [
        "valid_images[data_idx]"
      ],
      "metadata": {
        "colab": {
          "base_uri": "https://localhost:8080/",
          "height": 68
        },
        "id": "Rz70Zb9WM8i7",
        "outputId": "c81d7f38-4767-4a0f-8df4-10930b633ece"
      },
      "execution_count": null,
      "outputs": [
        {
          "output_type": "execute_result",
          "data": {
            "text/plain": [
              "array([[  0,   0,   0,   0,   0,   0,   0,   0,   0,  56,  45,  13,   0,\n",
              "          0,   5,   4,   6,  15,  53,  50,   0,   0,   0,   0,   0,   0,\n",
              "          0,   0],\n",
              "       [  0,   0,   0,   0,   0,   0,   0,   0,   0, 135, 255, 227, 230,\n",
              "        238, 218, 226, 223, 216, 247, 100,   0,   0,   0,   0,   0,   0,\n",
              "          0,   0],\n",
              "       [  0,   0,   0,   0,   0,   0,   0,   0,   0, 124, 206, 185, 191,\n",
              "        195, 183, 184, 183, 187, 194,  72,   0,   0,   0,   0,   0,   0,\n",
              "          0,   0],\n",
              "       [  0,   0,   0,   0,   0,   0,   0,   0,   0, 158, 199, 189, 187,\n",
              "        194, 187, 184, 198, 192, 191, 115,   0,   0,   0,   0,   0,   0,\n",
              "          0,   0],\n",
              "       [  0,   0,   0,   0,   0,   0,   0,   0,   0, 165, 192, 187, 185,\n",
              "        190, 189, 181, 185, 185, 188, 136,   0,   0,   0,   0,   0,   0,\n",
              "          0,   0],\n",
              "       [  0,   0,   0,   0,   0,   0,   0,   0,   0, 175, 187, 187, 189,\n",
              "        191, 204, 193, 188, 184, 184, 144,   0,   0,   0,   0,   0,   0,\n",
              "          0,   0],\n",
              "       [  0,   0,   0,   0,   0,   0,   0,   0,   0, 176, 184, 183, 182,\n",
              "        194, 180, 217, 183, 181, 184, 146,   0,   0,   0,   0,   0,   0,\n",
              "          0,   0],\n",
              "       [  0,   0,   0,   0,   0,   0,   0,   0,   0, 167, 189, 182, 178,\n",
              "        187,  63, 223, 175, 183, 188, 134,   0,   0,   0,   0,   0,   0,\n",
              "          0,   0],\n",
              "       [  0,   0,   0,   0,   0,   0,   0,   0,   0, 142, 200, 174, 184,\n",
              "        189,  66, 234, 181, 179, 195,  97,   0,   0,   0,   0,   0,   0,\n",
              "          0,   0],\n",
              "       [  0,   0,   0,   0,   0,   0,   0,   0,   0,  99, 211, 173, 188,\n",
              "        182,  44, 235, 178, 177, 200,  54,   0,   0,   0,   0,   0,   0,\n",
              "          0,   0],\n",
              "       [  0,   0,   0,   0,   0,   0,   0,   0,   0,  65, 215, 176, 191,\n",
              "        175,   9, 240, 179, 182, 194,  11,   0,   0,   0,   0,   0,   0,\n",
              "          0,   0],\n",
              "       [  0,   0,   0,   0,   0,   0,   0,   0,   0,  14, 217, 179, 197,\n",
              "        160,   0, 243, 181, 180, 179,   0,   0,   0,   0,   0,   0,   0,\n",
              "          0,   0],\n",
              "       [  0,   0,   0,   0,   0,   0,   0,   0,   0,   0, 204, 181, 202,\n",
              "        147,   0, 238, 183, 185, 139,   0,   0,   0,   0,   0,   0,   0,\n",
              "          0,   0],\n",
              "       [  0,   0,   0,   0,   0,   0,   0,   0,   0,   0, 155, 187, 202,\n",
              "        132,   0, 237, 180, 185,  80,   0,   0,   0,   0,   0,   0,   0,\n",
              "          0,   0],\n",
              "       [  0,   0,   0,   0,   0,   0,   0,   0,   0,   0, 106, 190, 186,\n",
              "        132,   0, 235, 180, 175,  24,   0,   0,   0,   0,   0,   0,   0,\n",
              "          0,   0],\n",
              "       [  0,   0,   0,   0,   0,   0,   0,   0,   0,   0,  78, 191, 184,\n",
              "        143,   0, 239, 181, 192,   6,   0,   0,   0,   0,   0,   0,   0,\n",
              "          0,   0],\n",
              "       [  0,   0,   0,   0,   0,   0,   0,   0,   0,   0,  61, 193, 190,\n",
              "        123,   0, 240, 186, 165,   0,   0,   0,   0,   0,   0,   0,   0,\n",
              "          0,   0],\n",
              "       [  0,   0,   0,   0,   0,   0,   0,   0,   0,   0, 105, 195, 191,\n",
              "         52,   0, 201, 191, 174,  11,   0,   0,   0,   0,   0,   0,   0,\n",
              "          0,   0],\n",
              "       [  0,   0,   0,   0,   0,   0,   0,   0,   0,   0, 161, 193, 180,\n",
              "          4,   0, 124, 201, 185,  49,   0,   0,   0,   0,   0,   0,   0,\n",
              "          0,   0],\n",
              "       [  0,   0,   0,   0,   0,   0,   0,   0,   0,   0, 192, 190, 181,\n",
              "          4,   0, 118, 205, 192,  99,   0,   0,   0,   0,   0,   0,   0,\n",
              "          0,   0],\n",
              "       [  0,   0,   0,   0,   0,   0,   0,   0,   0,   0, 192, 190, 184,\n",
              "          6,   0, 133, 205, 194, 107,   0,   0,   0,   0,   0,   0,   0,\n",
              "          0,   0],\n",
              "       [  0,   0,   0,   0,   0,   0,   0,   0,   0,   0, 173, 196, 171,\n",
              "          0,   0, 101, 207, 195,  77,   0,   0,   0,   0,   0,   0,   0,\n",
              "          0,   0],\n",
              "       [  0,   0,   0,   0,   0,   0,   0,   0,   0,   0, 160, 204, 181,\n",
              "          0,   0,  54, 206, 194,  39,   0,   0,   0,   0,   0,   0,   0,\n",
              "          0,   0],\n",
              "       [  0,   0,   0,   0,   0,   0,   0,   0,   0,   0, 152, 210, 160,\n",
              "          0,   0,   3, 198, 192,  24,   0,   0,   0,   0,   0,   0,   0,\n",
              "          0,   0],\n",
              "       [  0,   0,   0,   0,   0,   0,   0,   0,   0,   0, 129, 214, 138,\n",
              "          0,   0,   0, 189, 191,  17,   0,   0,   0,   0,   0,   0,   0,\n",
              "          0,   0],\n",
              "       [  0,   0,   0,   0,   0,   0,   0,   0,   0,   0, 117, 213,  98,\n",
              "          0,   0,   0, 176, 185,   0,   0,   0,   0,   0,   0,   0,   0,\n",
              "          0,   0],\n",
              "       [  0,   0,   0,   0,   0,   0,   0,   0,   0,   0, 101, 237,  91,\n",
              "          0,   0,   0, 190, 182,   0,   0,   0,   0,   0,   0,   0,   0,\n",
              "          0,   0],\n",
              "       [  0,   0,   0,   0,   0,   0,   0,   0,   0,   0,  27, 142,  32,\n",
              "          0,   0,   0, 121, 117,   0,   0,   0,   0,   0,   0,   0,   0,\n",
              "          0,   0]], dtype=uint8)"
            ],
            "text/html": [
              "<style>\n",
              "      .ndarray_repr .ndarray_raw_data {\n",
              "        display: none;\n",
              "      }\n",
              "      .ndarray_repr.show_array .ndarray_raw_data {\n",
              "        display: block;\n",
              "      }\n",
              "      .ndarray_repr.show_array .ndarray_image_preview {\n",
              "        display: none;\n",
              "      }\n",
              "      </style>\n",
              "      <div id=\"id-70e4a4b9-a5c8-4113-88d6-2c3d73fbf8b1\" class=\"ndarray_repr\"><pre>ndarray (28, 28) <button style=\"padding: 0 2px;\">show data</button></pre><img src=\"data:image/png;base64,iVBORw0KGgoAAAANSUhEUgAAABwAAAAcCAAAAABXZoBIAAABOUlEQVR4nG3Ru0oDQRTG8W+uuSwkWAjpBIuAaGWVB/JdLHwcQRDrgE2MFoEYUUOMt0STrJt1b3OxShacOeX/xzkMDMFmOvE4grC01tY3+D+n9uVtMZo8D5OTTeJbjPtzydfE8tl0k+gW9zOuLEdT6EN3s5IZo2gege26WC/ASYMXSlXds0SrjH20Cl22EhNhVXYmU8rXLr4HqaQskKry4OIgsDybEW3EwH3QE2csexSE5wN3s0eZDBNGTRi7+BNREaGgYggX0ZcIYTW6XmQrwOD32odTYgJwsrPw4ZLKLxDxmvvwiJJL3Ita4MOOiW9xXg/aPtzTBMh55diHAKNoglZ9+C2jHGNKJj6MqnXgztqRD1M5B3qpCX34yWeATmzmw7UdAojypQ9XrQxAQ5el/GxcHHQBXKmy/AEW0oLL5P07PwAAAABJRU5ErkJggg==\" class=\"ndarray_image_preview\" /><pre class=\"ndarray_raw_data\">array([[  0,   0,   0,   0,   0,   0,   0,   0,   0,  56,  45,  13,   0,\n",
              "          0,   5,   4,   6,  15,  53,  50,   0,   0,   0,   0,   0,   0,\n",
              "          0,   0],\n",
              "       [  0,   0,   0,   0,   0,   0,   0,   0,   0, 135, 255, 227, 230,\n",
              "        238, 218, 226, 223, 216, 247, 100,   0,   0,   0,   0,   0,   0,\n",
              "          0,   0],\n",
              "       [  0,   0,   0,   0,   0,   0,   0,   0,   0, 124, 206, 185, 191,\n",
              "        195, 183, 184, 183, 187, 194,  72,   0,   0,   0,   0,   0,   0,\n",
              "          0,   0],\n",
              "       [  0,   0,   0,   0,   0,   0,   0,   0,   0, 158, 199, 189, 187,\n",
              "        194, 187, 184, 198, 192, 191, 115,   0,   0,   0,   0,   0,   0,\n",
              "          0,   0],\n",
              "       [  0,   0,   0,   0,   0,   0,   0,   0,   0, 165, 192, 187, 185,\n",
              "        190, 189, 181, 185, 185, 188, 136,   0,   0,   0,   0,   0,   0,\n",
              "          0,   0],\n",
              "       [  0,   0,   0,   0,   0,   0,   0,   0,   0, 175, 187, 187, 189,\n",
              "        191, 204, 193, 188, 184, 184, 144,   0,   0,   0,   0,   0,   0,\n",
              "          0,   0],\n",
              "       [  0,   0,   0,   0,   0,   0,   0,   0,   0, 176, 184, 183, 182,\n",
              "        194, 180, 217, 183, 181, 184, 146,   0,   0,   0,   0,   0,   0,\n",
              "          0,   0],\n",
              "       [  0,   0,   0,   0,   0,   0,   0,   0,   0, 167, 189, 182, 178,\n",
              "        187,  63, 223, 175, 183, 188, 134,   0,   0,   0,   0,   0,   0,\n",
              "          0,   0],\n",
              "       [  0,   0,   0,   0,   0,   0,   0,   0,   0, 142, 200, 174, 184,\n",
              "        189,  66, 234, 181, 179, 195,  97,   0,   0,   0,   0,   0,   0,\n",
              "          0,   0],\n",
              "       [  0,   0,   0,   0,   0,   0,   0,   0,   0,  99, 211, 173, 188,\n",
              "        182,  44, 235, 178, 177, 200,  54,   0,   0,   0,   0,   0,   0,\n",
              "          0,   0],\n",
              "       [  0,   0,   0,   0,   0,   0,   0,   0,   0,  65, 215, 176, 191,\n",
              "        175,   9, 240, 179, 182, 194,  11,   0,   0,   0,   0,   0,   0,\n",
              "          0,   0],\n",
              "       [  0,   0,   0,   0,   0,   0,   0,   0,   0,  14, 217, 179, 197,\n",
              "        160,   0, 243, 181, 180, 179,   0,   0,   0,   0,   0,   0,   0,\n",
              "          0,   0],\n",
              "       [  0,   0,   0,   0,   0,   0,   0,   0,   0,   0, 204, 181, 202,\n",
              "        147,   0, 238, 183, 185, 139,   0,   0,   0,   0,   0,   0,   0,\n",
              "          0,   0],\n",
              "       [  0,   0,   0,   0,   0,   0,   0,   0,   0,   0, 155, 187, 202,\n",
              "        132,   0, 237, 180, 185,  80,   0,   0,   0,   0,   0,   0,   0,\n",
              "          0,   0],\n",
              "       [  0,   0,   0,   0,   0,   0,   0,   0,   0,   0, 106, 190, 186,\n",
              "        132,   0, 235, 180, 175,  24,   0,   0,   0,   0,   0,   0,   0,\n",
              "          0,   0],\n",
              "       [  0,   0,   0,   0,   0,   0,   0,   0,   0,   0,  78, 191, 184,\n",
              "        143,   0, 239, 181, 192,   6,   0,   0,   0,   0,   0,   0,   0,\n",
              "          0,   0],\n",
              "       [  0,   0,   0,   0,   0,   0,   0,   0,   0,   0,  61, 193, 190,\n",
              "        123,   0, 240, 186, 165,   0,   0,   0,   0,   0,   0,   0,   0,\n",
              "          0,   0],\n",
              "       [  0,   0,   0,   0,   0,   0,   0,   0,   0,   0, 105, 195, 191,\n",
              "         52,   0, 201, 191, 174,  11,   0,   0,   0,   0,   0,   0,   0,\n",
              "          0,   0],\n",
              "       [  0,   0,   0,   0,   0,   0,   0,   0,   0,   0, 161, 193, 180,\n",
              "          4,   0, 124, 201, 185,  49,   0,   0,   0,   0,   0,   0,   0,\n",
              "          0,   0],\n",
              "       [  0,   0,   0,   0,   0,   0,   0,   0,   0,   0, 192, 190, 181,\n",
              "          4,   0, 118, 205, 192,  99,   0,   0,   0,   0,   0,   0,   0,\n",
              "          0,   0],\n",
              "       [  0,   0,   0,   0,   0,   0,   0,   0,   0,   0, 192, 190, 184,\n",
              "          6,   0, 133, 205, 194, 107,   0,   0,   0,   0,   0,   0,   0,\n",
              "          0,   0],\n",
              "       [  0,   0,   0,   0,   0,   0,   0,   0,   0,   0, 173, 196, 171,\n",
              "          0,   0, 101, 207, 195,  77,   0,   0,   0,   0,   0,   0,   0,\n",
              "          0,   0],\n",
              "       [  0,   0,   0,   0,   0,   0,   0,   0,   0,   0, 160, 204, 181,\n",
              "          0,   0,  54, 206, 194,  39,   0,   0,   0,   0,   0,   0,   0,\n",
              "          0,   0],\n",
              "       [  0,   0,   0,   0,   0,   0,   0,   0,   0,   0, 152, 210, 160,\n",
              "          0,   0,   3, 198, 192,  24,   0,   0,   0,   0,   0,   0,   0,\n",
              "          0,   0],\n",
              "       [  0,   0,   0,   0,   0,   0,   0,   0,   0,   0, 129, 214, 138,\n",
              "          0,   0,   0, 189, 191,  17,   0,   0,   0,   0,   0,   0,   0,\n",
              "          0,   0],\n",
              "       [  0,   0,   0,   0,   0,   0,   0,   0,   0,   0, 117, 213,  98,\n",
              "          0,   0,   0, 176, 185,   0,   0,   0,   0,   0,   0,   0,   0,\n",
              "          0,   0],\n",
              "       [  0,   0,   0,   0,   0,   0,   0,   0,   0,   0, 101, 237,  91,\n",
              "          0,   0,   0, 190, 182,   0,   0,   0,   0,   0,   0,   0,   0,\n",
              "          0,   0],\n",
              "       [  0,   0,   0,   0,   0,   0,   0,   0,   0,   0,  27, 142,  32,\n",
              "          0,   0,   0, 121, 117,   0,   0,   0,   0,   0,   0,   0,   0,\n",
              "          0,   0]], dtype=uint8)</pre></div><script>\n",
              "      (() => {\n",
              "      const titles = ['show data', 'hide data'];\n",
              "      let index = 0\n",
              "      document.querySelector('#id-70e4a4b9-a5c8-4113-88d6-2c3d73fbf8b1 button').onclick = (e) => {\n",
              "        document.querySelector('#id-70e4a4b9-a5c8-4113-88d6-2c3d73fbf8b1').classList.toggle('show_array');\n",
              "        index = (++index) % 2;\n",
              "        document.querySelector('#id-70e4a4b9-a5c8-4113-88d6-2c3d73fbf8b1 button').textContent = titles[index];\n",
              "        e.preventDefault();\n",
              "        e.stopPropagation();\n",
              "      }\n",
              "      })();\n",
              "    </script>"
            ]
          },
          "metadata": {},
          "execution_count": 25
        }
      ]
    },
    {
      "cell_type": "code",
      "source": [
        "#Defining the Architecture\n",
        "number_of_classes = train_labels.max() + 1\n",
        "number_of_classes"
      ],
      "metadata": {
        "colab": {
          "base_uri": "https://localhost:8080/"
        },
        "id": "O44NadgrPdpY",
        "outputId": "1e83d01c-05f9-4ad4-dc2d-2fdae6b7c2e7"
      },
      "execution_count": null,
      "outputs": [
        {
          "output_type": "execute_result",
          "data": {
            "text/plain": [
              "10"
            ]
          },
          "metadata": {},
          "execution_count": 28
        }
      ]
    },
    {
      "cell_type": "code",
      "source": [
        "model = tf.keras.Sequential([\n",
        "    tf.keras.layers.Flatten(input_shape = (28,28)),\n",
        "    tf.keras.layers.Dense(number_of_classes)\n",
        "])"
      ],
      "metadata": {
        "id": "yUJJDbUFY_Mz"
      },
      "execution_count": null,
      "outputs": []
    },
    {
      "cell_type": "code",
      "source": [
        "#Verifying the model\n",
        "model.summary()"
      ],
      "metadata": {
        "colab": {
          "base_uri": "https://localhost:8080/"
        },
        "id": "RADPlMDXaQKY",
        "outputId": "d9ff291a-69a3-4a3e-df68-876c135d2d9a"
      },
      "execution_count": null,
      "outputs": [
        {
          "output_type": "stream",
          "name": "stdout",
          "text": [
            "Model: \"sequential\"\n",
            "_________________________________________________________________\n",
            " Layer (type)                Output Shape              Param #   \n",
            "=================================================================\n",
            " flatten (Flatten)           (None, 784)               0         \n",
            "                                                                 \n",
            " dense (Dense)               (None, 10)                7850      \n",
            "                                                                 \n",
            "=================================================================\n",
            "Total params: 7850 (30.66 KB)\n",
            "Trainable params: 7850 (30.66 KB)\n",
            "Non-trainable params: 0 (0.00 Byte)\n",
            "_________________________________________________________________\n"
          ]
        }
      ]
    },
    {
      "cell_type": "code",
      "source": [
        "image_height = 28\n",
        "image_width = 28\n",
        "no_of_weights = image_height * image_width * number_of_classes\n",
        "no_of_weights"
      ],
      "metadata": {
        "colab": {
          "base_uri": "https://localhost:8080/"
        },
        "id": "6dNoi3MLaj95",
        "outputId": "23ae2700-c040-43f5-8228-99df54a3e495"
      },
      "execution_count": null,
      "outputs": [
        {
          "output_type": "execute_result",
          "data": {
            "text/plain": [
              "7840"
            ]
          },
          "metadata": {},
          "execution_count": 33
        }
      ]
    },
    {
      "cell_type": "code",
      "source": [
        "tf.keras.utils.plot_model(model, show_shapes = True)"
      ],
      "metadata": {
        "colab": {
          "base_uri": "https://localhost:8080/",
          "height": 312
        },
        "id": "WD1l0iyea6P2",
        "outputId": "1275ad03-d526-4d2b-8226-cacff98cd2cc"
      },
      "execution_count": null,
      "outputs": [
        {
          "output_type": "execute_result",
          "data": {
            "image/png": "[encoded data removed]",
            "text/plain": [
              "<IPython.core.display.Image object>"
            ]
          },
          "metadata": {},
          "execution_count": 34
        }
      ]
    },
    {
      "cell_type": "code",
      "source": [
        "#Initiate Training\n",
        "model.compile(optimizer = 'adam', loss = tf.keras.losses.SparseCategoricalCrossentropy(from_logits=True), metrics = ['accuracy'])"
      ],
      "metadata": {
        "id": "84UR-Qfoc-LF"
      },
      "execution_count": null,
      "outputs": []
    },
    {
      "cell_type": "code",
      "source": [
        "#Evaluating the model\n",
        "history = model.fit(\n",
        "    train_images,\n",
        "    train_labels,\n",
        "    epochs = 10,\n",
        "    verbose = True,\n",
        "    validation_data = (valid_images, valid_labels)\n",
        ")"
      ],
      "metadata": {
        "colab": {
          "base_uri": "https://localhost:8080/"
        },
        "id": "TXGiUDYefKGA",
        "outputId": "81bf0fce-9cfa-483b-daed-1869ef4456bf"
      },
      "execution_count": null,
      "outputs": [
        {
          "output_type": "stream",
          "name": "stdout",
          "text": [
            "Epoch 1/10\n",
            "1875/1875 [==============================] - 4s 2ms/step - loss: 16.3211 - accuracy: 0.7477 - val_loss: 12.5732 - val_accuracy: 0.7690\n",
            "Epoch 2/10\n",
            "1875/1875 [==============================] - 4s 2ms/step - loss: 12.0392 - accuracy: 0.7883 - val_loss: 13.6611 - val_accuracy: 0.7940\n",
            "Epoch 3/10\n",
            "1875/1875 [==============================] - 3s 2ms/step - loss: 11.1633 - accuracy: 0.7969 - val_loss: 12.8144 - val_accuracy: 0.7735\n",
            "Epoch 4/10\n",
            "1875/1875 [==============================] - 3s 2ms/step - loss: 10.7401 - accuracy: 0.7987 - val_loss: 12.9218 - val_accuracy: 0.7916\n",
            "Epoch 5/10\n",
            "1875/1875 [==============================] - 3s 2ms/step - loss: 10.9854 - accuracy: 0.8009 - val_loss: 14.7206 - val_accuracy: 0.7552\n",
            "Epoch 6/10\n",
            "1875/1875 [==============================] - 4s 2ms/step - loss: 10.5237 - accuracy: 0.8048 - val_loss: 17.3114 - val_accuracy: 0.7317\n",
            "Epoch 7/10\n",
            "1875/1875 [==============================] - 3s 2ms/step - loss: 10.3138 - accuracy: 0.8042 - val_loss: 14.8929 - val_accuracy: 0.7381\n",
            "Epoch 8/10\n",
            "1875/1875 [==============================] - 3s 2ms/step - loss: 10.4049 - accuracy: 0.8049 - val_loss: 16.0296 - val_accuracy: 0.7641\n",
            "Epoch 9/10\n",
            "1875/1875 [==============================] - 4s 2ms/step - loss: 9.9637 - accuracy: 0.8098 - val_loss: 11.6634 - val_accuracy: 0.8003\n",
            "Epoch 10/10\n",
            "1875/1875 [==============================] - 4s 2ms/step - loss: 10.0905 - accuracy: 0.8066 - val_loss: 11.9223 - val_accuracy: 0.7702\n"
          ]
        }
      ]
    },
    {
      "cell_type": "code",
      "source": [
        "#Prediction\n",
        "model.predict(train_images[0:10])"
      ],
      "metadata": {
        "colab": {
          "base_uri": "https://localhost:8080/"
        },
        "id": "YVD-AdmphYZx",
        "outputId": "b5fa87cb-7bb1-4fe5-8df7-e2a6e6584ae7"
      },
      "execution_count": null,
      "outputs": [
        {
          "output_type": "stream",
          "name": "stdout",
          "text": [
            "1/1 [==============================] - 0s 69ms/step\n"
          ]
        },
        {
          "output_type": "execute_result",
          "data": {
            "text/plain": [
              "array([[ -346.8514   ,  -847.5731   ,  -218.77551  ,  -339.8204   ,\n",
              "         -303.1858   ,   237.47186  ,     3.5213902,   219.21088  ,\n",
              "           55.33332  ,   800.42786  ],\n",
              "       [  289.80313  ,  -291.4732   ,   174.0726   ,    87.7872   ,\n",
              "          -48.42524  , -1640.3596   ,   227.93588  , -2410.5205   ,\n",
              "         -100.62822  ,  -956.82654  ],\n",
              "       [   86.33903  ,    32.4815   ,    60.95114  ,   111.83683  ,\n",
              "           68.4304   ,  -604.2915   ,    80.26861  ,  -660.54407  ,\n",
              "          -17.023006 ,  -348.2042   ],\n",
              "       [  138.39455  ,    27.732946 ,   120.34137  ,   153.86668  ,\n",
              "           89.53167  ,  -859.2061   ,   144.01668  , -1338.6835   ,\n",
              "          -48.043686 ,  -930.376    ],\n",
              "       [  180.1719   ,   177.988    ,   104.48338  ,   246.66893  ,\n",
              "          177.64914  , -1069.4366   ,   153.64413  , -1003.44727  ,\n",
              "           77.94944  , -1006.5109   ],\n",
              "       [  102.50634  ,     7.8634777,   276.93314  ,   105.130394 ,\n",
              "          242.98633  , -1215.5275   ,   201.77657  , -2116.2725   ,\n",
              "           45.834732 , -1315.1957   ],\n",
              "       [ -167.13925  ,  -141.43561  ,   -50.085655 ,   -99.40202  ,\n",
              "          -79.53091  ,   304.05655  ,    -9.138461 ,   292.7112   ,\n",
              "          145.85544  ,   231.20001  ],\n",
              "       [   51.19701  ,  -262.373    ,   333.85315  ,    18.786407 ,\n",
              "          429.25757  , -1472.4559   ,   293.99933  , -2299.188    ,\n",
              "           47.869423 ,  -846.9702   ],\n",
              "       [ -144.51958  ,  -487.1251   ,  -188.7083   ,  -177.4521   ,\n",
              "         -200.07632  ,   395.99185  ,   -93.44408  ,   -41.839252 ,\n",
              "          -90.63085  ,   306.2689   ],\n",
              "       [ -289.30887  ,  -560.15607  ,  -131.57147  ,  -154.1924   ,\n",
              "         -168.81113  ,   625.7987   ,   -79.49091  ,  -367.67816  ,\n",
              "           30.56189  ,   266.7983   ]], dtype=float32)"
            ]
          },
          "metadata": {},
          "execution_count": 38
        }
      ]
    },
    {
      "cell_type": "code",
      "source": [
        "data_idx = 675\n",
        "\n",
        "plt.figure()\n",
        "plt.imshow(train_images[data_idx], cmap='viridis')\n",
        "plt.colorbar()\n",
        "plt.grid(False)\n",
        "plt.show()\n",
        "\n",
        "x_values = range(number_of_classes)\n",
        "plt.figure()\n",
        "plt.bar(x_values, model.predict(train_images[data_idx:data_idx+1]).flatten())\n",
        "plt.xticks(range(10))\n",
        "plt.show()\n",
        "\n",
        "print(\"correct answer:\", train_labels[data_idx])"
      ],
      "metadata": {
        "colab": {
          "base_uri": "https://localhost:8080/",
          "height": 879
        },
        "id": "yVv3UgThhf-b",
        "outputId": "512e85c1-d0fd-4466-8103-c4c0c7c853d6"
      },
      "execution_count": null,
      "outputs": [
        {
          "output_type": "display_data",
          "data": {
            "text/plain": [
              "<Figure size 640x480 with 2 Axes>"
            ],
            "image/png": "[encoded data removed]"
          },
          "metadata": {}
        },
        {
          "output_type": "stream",
          "name": "stdout",
          "text": [
            "1/1 [==============================] - 0s 17ms/step\n"
          ]
        },
        {
          "output_type": "display_data",
          "data": {
            "text/plain": [
              "<Figure size 640x480 with 1 Axes>"
            ],
            "image/png": "[encoded data removed]"
          },
          "metadata": {}
        },
        {
          "output_type": "stream",
          "name": "stdout",
          "text": [
            "correct answer: 8\n"
          ]
        }
      ]
    }
  ]
}